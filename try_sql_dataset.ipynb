{
 "cells": [
  {
   "cell_type": "markdown",
   "metadata": {},
   "source": [
    "## Try Generation"
   ]
  },
  {
   "cell_type": "code",
   "execution_count": 1,
   "metadata": {},
   "outputs": [
    {
     "name": "stderr",
     "output_type": "stream",
     "text": [
      "/opt/conda/envs/Parrot/lib/python3.10/site-packages/tqdm/auto.py:21: TqdmWarning: IProgress not found. Please update jupyter and ipywidgets. See https://ipywidgets.readthedocs.io/en/stable/user_install.html\n",
      "  from .autonotebook import tqdm as notebook_tqdm\n"
     ]
    }
   ],
   "source": [
    "import json\n",
    "import sys\n",
    "import time\n",
    "import warnings\n",
    "from pathlib import Path\n",
    "from typing import Literal, Optional\n",
    "\n",
    "import lightning as L\n",
    "import torch\n",
    "from lightning.fabric.strategies import FSDPStrategy\n",
    "\n",
    "\n",
    "from generate.base import generate\n",
    "from lit_gpt import Tokenizer\n",
    "from lit_gpt.lora import GPT, Block, Config, merge_lora_weights\n",
    "from lit_gpt.utils import check_valid_checkpoint_dir, get_default_supported_precision, lazy_load, quantization\n",
    "from scripts.prepare_alpaca import generate_prompt\n",
    "\n",
    "lora_r = 8\n",
    "lora_alpha = 16\n",
    "lora_dropout = 0.05\n",
    "lora_query = True\n",
    "lora_key = True\n",
    "lora_value = True\n",
    "lora_projection = True\n",
    "lora_mlp = True\n",
    "lora_head = True"
   ]
  },
  {
   "cell_type": "code",
   "execution_count": 2,
   "metadata": {},
   "outputs": [],
   "source": [
    "prompt: str = \"How many heads of the departments are older than 56 ?\"\n",
    "instruction = prompt\n",
    "input: str = \"CREATE TABLE head (age INTEGER)\"\n",
    "lora_path: Path = Path(\"out/lora/sql_llama_2/lit_model_lora_finetuned.pth\")\n",
    "checkpoint_dir: Path = Path(\"checkpoints/meta-llama/Llama-2-7b-hf/\")\n",
    "quantize = \"bnb.nf4\"\n",
    "max_new_tokens: int = 100\n",
    "top_k: int = 200\n",
    "temperature: float = 0.1\n",
    "strategy: str = \"auto\"\n",
    "devices: int = 1\n",
    "precision: Optional[str] = None"
   ]
  },
  {
   "cell_type": "code",
   "execution_count": 3,
   "metadata": {},
   "outputs": [
    {
     "name": "stderr",
     "output_type": "stream",
     "text": [
      "You are using a CUDA device ('NVIDIA A10G') that has Tensor Cores. To properly utilize them, you should set `torch.set_float32_matmul_precision('medium' | 'high')` which will trade-off precision for performance. For more details, read https://pytorch.org/docs/stable/generated/torch.set_float32_matmul_precision.html#torch.set_float32_matmul_precision\n"
     ]
    }
   ],
   "source": [
    "precision = precision or get_default_supported_precision(training=False)\n",
    "\n",
    "if strategy == \"fsdp\":\n",
    "    strategy = FSDPStrategy(auto_wrap_policy={Block}, cpu_offload=False)\n",
    "fabric = L.Fabric(devices=devices, precision=precision, strategy=strategy)\n",
    "fabric.launch()\n",
    "\n",
    "check_valid_checkpoint_dir(checkpoint_dir)\n",
    "\n",
    "with open(checkpoint_dir / \"lit_config.json\") as fp:\n",
    "    config_params = dict(\n",
    "        r=lora_r,\n",
    "        alpha=lora_alpha,\n",
    "        dropout=lora_dropout,\n",
    "        to_query=lora_query,\n",
    "        to_key=lora_key,\n",
    "        to_value=lora_value,\n",
    "        to_projection=lora_projection,\n",
    "        to_mlp=lora_mlp,\n",
    "        to_head=lora_head,\n",
    "    )\n",
    "    config_params.update(**json.load(fp))\n",
    "    config = Config(**config_params)\n",
    "\n",
    "if quantize is not None and devices > 1:\n",
    "    raise NotImplementedError\n",
    "if quantize == \"gptq.int4\":\n",
    "    model_file = \"lit_model_gptq.4bit.pth\"\n",
    "    if not (checkpoint_dir / model_file).is_file():\n",
    "        raise ValueError(\"Please run `python quantize/gptq.py` first\")\n",
    "else:\n",
    "    model_file = \"lit_model.pth\"\n",
    "checkpoint_path = checkpoint_dir / model_file"
   ]
  },
  {
   "cell_type": "code",
   "execution_count": 4,
   "metadata": {},
   "outputs": [
    {
     "name": "stderr",
     "output_type": "stream",
     "text": [
      "Loading model 'checkpoints/meta-llama/Llama-2-7b-hf/lit_model.pth' with {'org': 'meta-llama', 'name': 'Llama-2-7b-hf', 'block_size': 4096, 'vocab_size': 32000, 'padding_multiple': 64, 'padded_vocab_size': 32000, 'n_layer': 32, 'n_head': 32, 'n_embd': 4096, 'rotary_percentage': 1.0, 'parallel_residual': False, 'bias': False, 'n_query_groups': 32, 'shared_attention_norm': False, '_norm_class': 'RMSNorm', 'norm_eps': 1e-05, '_mlp_class': 'LLaMAMLP', 'intermediate_size': 11008, 'condense_ratio': 1, 'r': 8, 'alpha': 16, 'dropout': 0.05, 'to_query': True, 'to_key': True, 'to_value': True, 'to_projection': True, 'to_mlp': True, 'to_head': True}\n",
      "Time to instantiate model: 5.75 seconds.\n"
     ]
    }
   ],
   "source": [
    "\n",
    "fabric.print(f\"Loading model {str(checkpoint_path)!r} with {config.__dict__}\", file=sys.stderr)\n",
    "t0 = time.perf_counter()\n",
    "with fabric.init_module(empty_init=True), quantization(quantize):\n",
    "    model = GPT(config)\n",
    "fabric.print(f\"Time to instantiate model: {time.perf_counter() - t0:.02f} seconds.\", file=sys.stderr)"
   ]
  },
  {
   "cell_type": "code",
   "execution_count": 5,
   "metadata": {},
   "outputs": [
    {
     "name": "stderr",
     "output_type": "stream",
     "text": [
      "Time to load the model weights: 6.01 seconds.\n"
     ]
    }
   ],
   "source": [
    "t0 = time.perf_counter()\n",
    "with lazy_load(checkpoint_path) as checkpoint, lazy_load(lora_path) as lora_checkpoint:\n",
    "    checkpoint.update(lora_checkpoint.get(\"model\", lora_checkpoint))\n",
    "    model.load_state_dict(checkpoint, strict=quantize is None)\n",
    "fabric.print(f\"Time to load the model weights: {time.perf_counter() - t0:.02f} seconds.\", file=sys.stderr)"
   ]
  },
  {
   "cell_type": "code",
   "execution_count": 6,
   "metadata": {},
   "outputs": [
    {
     "name": "stderr",
     "output_type": "stream",
     "text": [
      "/opt/conda/envs/Parrot/lib/python3.10/site-packages/lightning/fabric/fabric.py:943: PossibleUserWarning: The model passed to `Fabric.setup()` has 66 parameters on different devices (for example 'transformer.wte.weight' on cuda:0 and 'lm_head.lora_A' on cpu). Since `move_to_device=True`, all parameters will be moved to the new device. If this is not desired, set `Fabric.setup(..., move_to_device=False)`.\n",
      "  rank_zero_warn(\n"
     ]
    }
   ],
   "source": [
    "model.eval()\n",
    "merge_lora_weights(model)\n",
    "model = fabric.setup(model)\n",
    "\n"
   ]
  },
  {
   "cell_type": "code",
   "execution_count": 7,
   "metadata": {},
   "outputs": [],
   "source": [
    "tokenizer = Tokenizer(checkpoint_dir)\n",
    "sample = {\"instruction\": instruction, \"input\": input}\n",
    "prompt = generate_prompt(sample)\n",
    "encoded = tokenizer.encode(prompt, device=model.device)\n",
    "prompt_length = encoded.size(0)\n",
    "max_returned_tokens = prompt_length + max_new_tokens"
   ]
  },
  {
   "cell_type": "code",
   "execution_count": 10,
   "metadata": {},
   "outputs": [
    {
     "data": {
      "text/plain": [
       "'Below is an instruction that describes a task, paired with an input that provides further context. Write a response that appropriately completes the request.\\n\\n### Instruction:\\nHow many heads of the departments are older than 56 ?\\n\\n### Input:\\nCREATE TABLE head (age INTEGER)\\n\\n### Response:'"
      ]
     },
     "execution_count": 10,
     "metadata": {},
     "output_type": "execute_result"
    }
   ],
   "source": [
    "prompt"
   ]
  },
  {
   "cell_type": "code",
   "execution_count": 11,
   "metadata": {},
   "outputs": [
    {
     "name": "stdout",
     "output_type": "stream",
     "text": [
      "MS:MS:MS:MS:MS:MS:MS:MS:MS:MS:MS:MS:MS:MS:MS:MS:MS:MS:MS:MS:MS:MS:MS:MS:MS:MS:MS:MS:MS:MS:MS:MS:MS:MS:MS:MS:MS:MS:MS:MS:MS:MS:MS:MS:MS:MS:MS:MS:MS:MS:\n"
     ]
    },
    {
     "name": "stderr",
     "output_type": "stream",
     "text": [
      "\n",
      "\n",
      "Time for inference: 3.52 sec total, 28.39 tokens/sec\n",
      "Memory used: 4.70 GB\n"
     ]
    }
   ],
   "source": [
    "t0 = time.perf_counter()\n",
    "y = generate(\n",
    "    model,\n",
    "    encoded,\n",
    "    max_returned_tokens,\n",
    "    max_seq_length=max_returned_tokens,\n",
    "    temperature=temperature,\n",
    "    top_k=top_k,\n",
    "    eos_id=tokenizer.eos_id,\n",
    ")\n",
    "t = time.perf_counter() - t0\n",
    "\n",
    "model.reset_cache()\n",
    "output = tokenizer.decode(y)\n",
    "output_orig = output\n",
    "output = output.split(\"### Response:\")[1].strip()\n",
    "fabric.print(output)\n",
    "\n",
    "tokens_generated = y.size(0) - prompt_length\n",
    "fabric.print(f\"\\n\\nTime for inference: {t:.02f} sec total, {tokens_generated / t:.02f} tokens/sec\", file=sys.stderr)\n",
    "if fabric.device.type == \"cuda\":\n",
    "    fabric.print(f\"Memory used: {torch.cuda.max_memory_allocated() / 1e9:.02f} GB\", file=sys.stderr)"
   ]
  },
  {
   "cell_type": "code",
   "execution_count": 13,
   "metadata": {},
   "outputs": [
    {
     "data": {
      "text/plain": [
       "'MS:MS:MS:MS:MS:MS:MS:MS:MS:MS:MS:MS:MS:MS:MS:MS:MS:MS:MS:MS:MS:MS:MS:MS:MS:MS:MS:MS:MS:MS:MS:MS:MS:MS:MS:MS:MS:MS:MS:MS:MS:MS:MS:MS:MS:MS:MS:MS:MS:MS:'"
      ]
     },
     "execution_count": 13,
     "metadata": {},
     "output_type": "execute_result"
    }
   ],
   "source": [
    "output"
   ]
  },
  {
   "cell_type": "markdown",
   "metadata": {},
   "source": [
    "## Try Finetune"
   ]
  },
  {
   "cell_type": "code",
   "execution_count": 1,
   "metadata": {},
   "outputs": [
    {
     "name": "stderr",
     "output_type": "stream",
     "text": [
      "/opt/conda/envs/Parrot/lib/python3.10/site-packages/tqdm/auto.py:21: TqdmWarning: IProgress not found. Please update jupyter and ipywidgets. See https://ipywidgets.readthedocs.io/en/stable/user_install.html\n",
      "  from .autonotebook import tqdm as notebook_tqdm\n"
     ]
    }
   ],
   "source": [
    "import json\n",
    "import sys\n",
    "from pathlib import Path\n",
    "\n",
    "import requests\n",
    "import torch\n",
    "from torch.utils.data import random_split\n",
    "from tqdm import tqdm\n",
    "\n",
    "from datasets import load_dataset\n",
    "\n",
    "\n",
    "from lit_gpt.tokenizer import Tokenizer"
   ]
  },
  {
   "cell_type": "code",
   "execution_count": 23,
   "metadata": {},
   "outputs": [],
   "source": [
    "def prepare_sample(\n",
    "    example: dict,\n",
    "    tokenizer: Tokenizer,\n",
    "    max_length: int,\n",
    "    mask_inputs: bool = MASK_INPUTS,\n",
    "    ignore_index: int = IGNORE_INDEX,\n",
    "):\n",
    "    \"\"\"Processes a single sample.\n",
    "\n",
    "    Each sample in the dataset consists of:\n",
    "    - instruction: A string describing the task\n",
    "    - input: A string holding a special input value for the instruction.\n",
    "        This only applies to some samples, and in others this is empty.\n",
    "    - output: The response string\n",
    "\n",
    "    This function processes this data to produce a prompt text and a label for\n",
    "    supervised training. The prompt text is formed as a single message including both\n",
    "    the instruction and the input. The label/target is the same message but with the\n",
    "    response attached.\n",
    "\n",
    "    Finally, both the prompt and the label get tokenized. If desired, all tokens\n",
    "    in the label that correspond to the original input prompt get masked out (default).\n",
    "    \"\"\"\n",
    "    full_prompt = generate_prompt(example)\n",
    "    full_prompt_and_response = full_prompt + example[\"output\"]\n",
    "    encoded_full_prompt = tokenizer.encode(full_prompt, max_length=max_length)\n",
    "    encoded_full_prompt_and_response = tokenizer.encode(full_prompt_and_response, eos=True, max_length=max_length)\n",
    "\n",
    "    # The labels are the full prompt with response, but with the prompt masked out\n",
    "    labels = encoded_full_prompt_and_response.clone()\n",
    "    if mask_inputs:\n",
    "        labels[: len(encoded_full_prompt)] = ignore_index\n",
    "\n",
    "    return {\n",
    "        **example,\n",
    "        \"input_ids\": encoded_full_prompt_and_response,\n",
    "        \"input_ids_no_response\": encoded_full_prompt,\n",
    "        \"labels\": labels,\n",
    "    }\n",
    "\n",
    "def generate_prompt(example):\n",
    "    \"\"\"Generates a standardized message to prompt the model with an instruction, optional input and a\n",
    "    'response' field.\"\"\"\n",
    "\n",
    "    if example[\"input\"]:\n",
    "        return (\n",
    "            \"Below is an instruction that describes a task, paired with an input that provides further context. \"\n",
    "            \"Write a response that appropriately completes the request.\\n\\n\"\n",
    "            f\"### Instruction:\\n{example['instruction']}\\n\\n### Input:\\n{example['input']}\\n\\n### Response:\"\n",
    "        )\n",
    "    return (\n",
    "        \"Below is an instruction that describes a task. \"\n",
    "        \"Write a response that appropriately completes the request.\\n\\n\"\n",
    "        f\"### Instruction:\\n{example['instruction']}\\n\\n### Response:\"\n",
    "    )\n"
   ]
  },
  {
   "cell_type": "code",
   "execution_count": 24,
   "metadata": {},
   "outputs": [],
   "source": [
    "DATA_FILE_URL = \"\"\n",
    "DATA_FILE_NAME = \"sql-create-context.json\"\n",
    "DESTINATION_PATH = Path(\"data/sql-create-context\")\n",
    "CHECKPOINT_DIR = Path(\"checkpoints/meta-llama/Llama-2-7b-hf/\")\n",
    "TEST_SPLIT_FRACTION = 0.10  \n",
    "IGNORE_INDEX = -1\n",
    "MASK_INPUTS = False  # as in alpaca-lora\n",
    "HUGGING_FACE_DATASET_PATH = \"b-mc2/sql-create-context\"\n",
    "SEED = 42"
   ]
  },
  {
   "cell_type": "code",
   "execution_count": 29,
   "metadata": {},
   "outputs": [],
   "source": [
    "def prepare(\n",
    "    destination_path: Path = DESTINATION_PATH,\n",
    "    checkpoint_dir: Path = CHECKPOINT_DIR,\n",
    "    test_split_fraction: float = TEST_SPLIT_FRACTION,\n",
    "    seed: int = SEED,\n",
    "    mask_inputs: bool = MASK_INPUTS,\n",
    "    data_file_name: str = DATA_FILE_NAME,\n",
    "    data_file_url: str = DATA_FILE_URL,\n",
    "    ignore_index: int = IGNORE_INDEX,\n",
    ") -> None:\n",
    "    \"\"\"Prepare the SQL dataset for instruction tuning.\n",
    "\n",
    "    The output is a training and test dataset saved as `train.pt` and `test.pt`,\n",
    "    which stores the preprocessed and tokenized prompts and labels.\n",
    "    \"\"\"\n",
    "    with open(checkpoint_dir / \"lit_config.json\", \"r\") as file:\n",
    "        config = json.load(file)\n",
    "        max_seq_length = config[\"block_size\"]\n",
    "    print(\"Loading data file...\")\n",
    "    # this sql dataset has only a train set\n",
    "    sql_dataset = load_dataset(HUGGING_FACE_DATASET_PATH)[\"train\"]\n",
    "    sql_dataset = sql_dataset.rename_column(\"question\", \"instruction\")\n",
    "    sql_dataset = sql_dataset.rename_column(\"context\", \"input\")\n",
    "    sql_dataset = sql_dataset.rename_column(\"answer\", \"output\")\n",
    "    \n",
    "    destination_path.mkdir(parents=True, exist_ok=True)\n",
    "    data_file_path = destination_path / data_file_name\n",
    "    \n",
    "    # download_if_missing(data_file_path, data_file_url)\n",
    "    # with open(data_file_path, \"r\", encoding=\"utf-8\") as file:\n",
    "    #     data = json.load(file)\n",
    "\n",
    "    print(\"Loading tokenizer...\")\n",
    "    tokenizer = Tokenizer(checkpoint_dir)\n",
    "\n",
    "    # Partition the dataset into train and test\n",
    "    train_set, test_set = random_split(\n",
    "        sql_dataset, [1.0 - test_split_fraction, test_split_fraction], generator=torch.Generator().manual_seed(seed)\n",
    "    )\n",
    "    train_set, test_set = list(train_set), list(test_set)\n",
    "\n",
    "    print(f\"train has {len(train_set):,} samples\")\n",
    "    print(f\"test has {len(test_set):,} samples\")\n",
    "    print(\"Processing train split ...\")\n",
    "    train_set = [\n",
    "        prepare_sample(\n",
    "            example=sample,\n",
    "            tokenizer=tokenizer,\n",
    "            max_length=max_seq_length,\n",
    "            mask_inputs=mask_inputs,\n",
    "            ignore_index=ignore_index,\n",
    "        )\n",
    "        for sample in tqdm(train_set)\n",
    "    ]\n",
    "    torch.save(train_set, destination_path / \"train.pt\")\n",
    "    print(\"Processing test split ...\")\n",
    "    test_set = [\n",
    "        prepare_sample(\n",
    "            example=sample,\n",
    "            tokenizer=tokenizer,\n",
    "            max_length=max_seq_length,\n",
    "            mask_inputs=mask_inputs,\n",
    "            ignore_index=ignore_index,\n",
    "        )\n",
    "        for sample in tqdm(test_set)\n",
    "    ]\n",
    "    torch.save(test_set, destination_path / \"test.pt\")\n",
    "    return train_set, test_set\n"
   ]
  },
  {
   "cell_type": "code",
   "execution_count": 30,
   "metadata": {},
   "outputs": [
    {
     "name": "stdout",
     "output_type": "stream",
     "text": [
      "Loading data file...\n"
     ]
    },
    {
     "name": "stderr",
     "output_type": "stream",
     "text": [
      "Found cached dataset json (/home/ubuntu/.cache/huggingface/datasets/b-mc2___json/b-mc2--sql-create-context-d62c31544f758e00/0.0.0/e347ab1c932092252e717ff3f949105a4dd28b27e842dd53157d2f72e276c2e4)\n",
      "100%|██████████| 1/1 [00:00<00:00, 542.39it/s]\n"
     ]
    },
    {
     "name": "stdout",
     "output_type": "stream",
     "text": [
      "Loading tokenizer...\n",
      "train has 70,720 samples\n",
      "test has 7,857 samples\n",
      "Processing train split ...\n"
     ]
    },
    {
     "name": "stderr",
     "output_type": "stream",
     "text": [
      "100%|██████████| 70720/70720 [00:35<00:00, 2004.06it/s]\n"
     ]
    },
    {
     "name": "stdout",
     "output_type": "stream",
     "text": [
      "Processing test split ...\n"
     ]
    },
    {
     "name": "stderr",
     "output_type": "stream",
     "text": [
      "100%|██████████| 7857/7857 [00:04<00:00, 1844.97it/s]\n"
     ]
    }
   ],
   "source": [
    "a = prepare()"
   ]
  },
  {
   "cell_type": "code",
   "execution_count": 36,
   "metadata": {},
   "outputs": [
    {
     "data": {
      "text/plain": [
       "dict_keys(['instruction', 'input', 'output', 'input_ids', 'input_ids_no_response', 'labels'])"
      ]
     },
     "execution_count": 36,
     "metadata": {},
     "output_type": "execute_result"
    }
   ],
   "source": [
    "a[0][0].keys()"
   ]
  },
  {
   "cell_type": "code",
   "execution_count": 40,
   "metadata": {},
   "outputs": [
    {
     "data": {
      "text/plain": [
       "tensor([13866,   338,   385, 15278,   393, 16612,   263,  3414, 29892,  3300,\n",
       "         2859,   411,   385,  1881,   393,  8128,  4340,  3030, 29889, 14350,\n",
       "          263,  2933,   393,  7128,  2486,  1614,  2167,   278,  2009, 29889,\n",
       "           13,    13,  2277, 29937,  2799,  4080, 29901,    13,  5618,   471,\n",
       "          278,  2407,   363,   278,  3748,   373,  4779, 29871, 29906, 29945,\n",
       "        29973,    13,    13,  2277, 29937, 10567, 29901,    13, 27045, 10911,\n",
       "         1591, 29918,   978, 29918, 29906, 29955,   313, 11651, 21748, 29892,\n",
       "         2635, 21748, 29897,    13,    13,  2277, 29937, 13291, 29901,  6404,\n",
       "         2407,  3895,  1591, 29918,   978, 29918, 29906, 29955,  5754,  2635,\n",
       "          353,   376, 29885,  1279, 29871, 29906, 29945, 29908,     2],\n",
       "       dtype=torch.int32)"
      ]
     },
     "execution_count": 40,
     "metadata": {},
     "output_type": "execute_result"
    }
   ],
   "source": [
    "a[0][3][\"input_ids\"]"
   ]
  },
  {
   "cell_type": "code",
   "execution_count": 47,
   "metadata": {},
   "outputs": [],
   "source": [
    "tokenizer = Tokenizer(CHECKPOINT_DIR)\n",
    "encoded = tokenizer.encode(\"ziopera mamma mia\", bos=True, eos=True)"
   ]
  },
  {
   "cell_type": "code",
   "execution_count": 48,
   "metadata": {},
   "outputs": [
    {
     "data": {
      "text/plain": [
       "tensor([    1,   503, 21260,  1572,   286,  2735,   286,   423,     2],\n",
       "       dtype=torch.int32)"
      ]
     },
     "execution_count": 48,
     "metadata": {},
     "output_type": "execute_result"
    }
   ],
   "source": [
    "encoded"
   ]
  },
  {
   "cell_type": "code",
   "execution_count": 49,
   "metadata": {},
   "outputs": [
    {
     "data": {
      "text/plain": [
       "'ziopera mamma mia'"
      ]
     },
     "execution_count": 49,
     "metadata": {},
     "output_type": "execute_result"
    }
   ],
   "source": [
    "tokenizer.decode(encoded)"
   ]
  },
  {
   "cell_type": "code",
   "execution_count": null,
   "metadata": {},
   "outputs": [],
   "source": []
  }
 ],
 "metadata": {
  "kernelspec": {
   "display_name": "Parrot",
   "language": "python",
   "name": "python3"
  },
  "language_info": {
   "codemirror_mode": {
    "name": "ipython",
    "version": 3
   },
   "file_extension": ".py",
   "mimetype": "text/x-python",
   "name": "python",
   "nbconvert_exporter": "python",
   "pygments_lexer": "ipython3",
   "version": "3.10.11"
  },
  "orig_nbformat": 4
 },
 "nbformat": 4,
 "nbformat_minor": 2
}
